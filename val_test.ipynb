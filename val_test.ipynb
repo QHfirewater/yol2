{
 "cells": [
  {
   "cell_type": "code",
   "execution_count": 6,
   "id": "9e5913aa",
   "metadata": {},
   "outputs": [],
   "source": [
    "import cv2\n",
    "from ultralytics import YOLO\n",
    "import matplotlib.pyplot as plt\n",
    "\n",
    "# 加载预训练的YOLO模型（会自动下载权重文件）\n",
    "model = YOLO(r\"D:\\reinforce\\yolo\\runs\\detect\\train7\\weights\\best.pt\")  # 使用YOLOv8n模型，可选yolov8s/m/l/x"
   ]
  },
  {
   "cell_type": "code",
   "execution_count": 16,
   "id": "7b9f1d73",
   "metadata": {},
   "outputs": [
    {
     "name": "stdout",
     "output_type": "stream",
     "text": [
      "\n",
      "image 1/1 D:\\reinforce\\yolo\\datasets\\mycoco\\images\\train\\20250504204031.jpg: 640x480 1 ding, 38.6ms\n",
      "Speed: 3.1ms preprocess, 38.6ms inference, 1.4ms postprocess per image at shape (1, 3, 640, 480)\n"
     ]
    },
    {
     "data": {
      "text/plain": [
       "[ultralytics.engine.results.Results object with attributes:\n",
       " \n",
       " boxes: ultralytics.engine.results.Boxes object\n",
       " keypoints: None\n",
       " masks: None\n",
       " names: {0: 'ding'}\n",
       " obb: None\n",
       " orig_img: array([[[ 97, 109, 103],\n",
       "         [100, 112, 106],\n",
       "         [108, 120, 114],\n",
       "         ...,\n",
       "         [146, 159, 157],\n",
       "         [150, 163, 161],\n",
       "         [158, 171, 169]],\n",
       " \n",
       "        [[ 96, 108, 102],\n",
       "         [101, 113, 107],\n",
       "         [110, 122, 116],\n",
       "         ...,\n",
       "         [150, 163, 161],\n",
       "         [156, 169, 167],\n",
       "         [165, 178, 176]],\n",
       " \n",
       "        [[ 96, 108, 102],\n",
       "         [103, 115, 109],\n",
       "         [113, 125, 119],\n",
       "         ...,\n",
       "         [149, 162, 160],\n",
       "         [156, 169, 167],\n",
       "         [165, 178, 176]],\n",
       " \n",
       "        ...,\n",
       " \n",
       "        [[109, 109, 121],\n",
       "         [109, 109, 121],\n",
       "         [106, 106, 118],\n",
       "         ...,\n",
       "         [217, 219, 227],\n",
       "         [215, 216, 226],\n",
       "         [218, 219, 229]],\n",
       " \n",
       "        [[116, 115, 125],\n",
       "         [115, 114, 124],\n",
       "         [111, 110, 120],\n",
       "         ...,\n",
       "         [211, 210, 220],\n",
       "         [210, 209, 219],\n",
       "         [209, 208, 218]],\n",
       " \n",
       "        [[126, 125, 135],\n",
       "         [123, 122, 132],\n",
       "         [116, 115, 125],\n",
       "         ...,\n",
       "         [206, 205, 215],\n",
       "         [212, 211, 221],\n",
       "         [215, 214, 224]]], dtype=uint8)\n",
       " orig_shape: (4032, 3024)\n",
       " path: 'D:\\\\reinforce\\\\yolo\\\\datasets\\\\mycoco\\\\images\\\\train\\\\20250504204031.jpg'\n",
       " probs: None\n",
       " save_dir: 'runs\\\\detect\\\\predict'\n",
       " speed: {'preprocess': 3.0676000751554966, 'inference': 38.64959999918938, 'postprocess': 1.433099969290197}]"
      ]
     },
     "execution_count": 16,
     "metadata": {},
     "output_type": "execute_result"
    }
   ],
   "source": [
    "res = model(source=r'D:\\reinforce\\yolo\\datasets\\mycoco\\images\\train\\20250504204031.jpg')\n",
    "res"
   ]
  },
  {
   "cell_type": "code",
   "execution_count": 17,
   "id": "c5bab830",
   "metadata": {},
   "outputs": [],
   "source": [
    "res[0].show()"
   ]
  },
  {
   "cell_type": "code",
   "execution_count": null,
   "id": "f057a29d",
   "metadata": {},
   "outputs": [],
   "source": []
  }
 ],
 "metadata": {
  "kernelspec": {
   "display_name": "yol2",
   "language": "python",
   "name": "python3"
  },
  "language_info": {
   "codemirror_mode": {
    "name": "ipython",
    "version": 3
   },
   "file_extension": ".py",
   "mimetype": "text/x-python",
   "name": "python",
   "nbconvert_exporter": "python",
   "pygments_lexer": "ipython3",
   "version": "3.13.2"
  }
 },
 "nbformat": 4,
 "nbformat_minor": 5
}
